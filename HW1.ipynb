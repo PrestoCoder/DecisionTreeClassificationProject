{
  "nbformat": 4,
  "nbformat_minor": 0,
  "metadata": {
    "colab": {
      "provenance": []
    },
    "kernelspec": {
      "name": "python3",
      "display_name": "Python 3"
    },
    "language_info": {
      "name": "python"
    }
  },
  "cells": [
    {
      "cell_type": "code",
      "execution_count": null,
      "metadata": {
        "id": "UoRnKKPylXaZ",
        "colab": {
          "base_uri": "https://localhost:8080/"
        },
        "outputId": "62df9613-ea30-4ec8-dd51-d803fb58d6cf"
      },
      "outputs": [
        {
          "output_type": "stream",
          "name": "stderr",
          "text": [
            "[nltk_data] Downloading package punkt to /root/nltk_data...\n",
            "[nltk_data]   Unzipping tokenizers/punkt.zip.\n",
            "[nltk_data] Downloading package stopwords to /root/nltk_data...\n",
            "[nltk_data]   Unzipping corpora/stopwords.zip.\n"
          ]
        }
      ],
      "source": [
        "import pandas as pd\n",
        "import numpy as np\n",
        "import string\n",
        "import nltk\n",
        "from nltk.corpus import stopwords\n",
        "from nltk.stem.porter import *\n",
        "nltk.download('punkt')\n",
        "nltk.download('stopwords')\n",
        "import math\n",
        "import json\n",
        "import csv\n",
        "import matplotlib.pyplot as plt"
      ]
    },
    {
      "cell_type": "markdown",
      "source": [
        "## 1. Pre-processing"
      ],
      "metadata": {
        "id": "pBXVso1s1OP5"
      }
    },
    {
      "cell_type": "code",
      "source": [
        "# stemming tool from nltk\n",
        "stemmer = PorterStemmer()\n",
        "# a mapping dictionary that help remove punctuations\n",
        "remove_punctuation_map = dict((ord(char), None) for char in string.punctuation)\n",
        "def get_tokens(text):\n",
        "    # turn document into lowercase\n",
        "    lowers = text.lower()\n",
        "    # remove punctuations\n",
        "    no_punctuation = lowers.translate(remove_punctuation_map)\n",
        "    # tokenize document\n",
        "    tokens = nltk.word_tokenize(no_punctuation)\n",
        "    # remove stop words\n",
        "    filtered = [w for w in tokens if not w in stopwords.words('english')]\n",
        "    # stemming process\n",
        "    stemmed = [];\n",
        "    for item in filtered:\n",
        "        stemmed.append(stemmer.stem(item))\n",
        "    # final unigrams\n",
        "    return stemmed"
      ],
      "metadata": {
        "id": "-ksJCj5etPeK"
      },
      "execution_count": null,
      "outputs": []
    },
    {
      "cell_type": "code",
      "source": [
        "\n",
        "csvPath = '24_train_1.csv';\n",
        "df = pd.read_csv(csvPath);\n",
        "def preprocess(csvPath):\n",
        "  df = pd.read_csv(csvPath);\n",
        "\n",
        "  filePath = 'dictionary.txt'\n",
        "  with open(filePath, 'r') as file:\n",
        "      wordDict = file.read()\n",
        "  wordDict = wordDict.split()\n",
        "\n",
        "  # Finding a list of all documents\n",
        "  df\n",
        "  docList = df[\"Text\"].tolist()\n",
        "  docList = np.array(docList)\n",
        "\n",
        "  # Converting docList to array of unigrams\n",
        "  unigramArray = [];\n",
        "  i = 0\n",
        "  for document in docList:\n",
        "      if(i % 100 == 0):\n",
        "        print(i)\n",
        "      i+=1;\n",
        "      tokens = get_tokens(document);\n",
        "      commonSubset = [word for word in tokens if word in wordDict];\n",
        "      unigramArray.append(commonSubset)\n",
        "\n",
        "  wordCountInDocs = np.zeros(1000)\n",
        "  i = 0\n",
        "  for unigram in unigramArray:\n",
        "      i+=1;\n",
        "      j = 0\n",
        "      for word in wordDict:\n",
        "          if word in unigram:\n",
        "              wordCountInDocs[j] += 1\n",
        "          j += 1\n",
        "\n",
        "  max_word_counts_array = []\n",
        "\n",
        "  # Loop through each list in unigramArray\n",
        "  for document_unigram in unigramArray:\n",
        "      # Calculate counts of the most occurring word\n",
        "      max_word_count = max(document_unigram.count(word) for word in set(document_unigram))\n",
        "\n",
        "      # Append the count to the array\n",
        "      max_word_counts_array.append(max_word_count)\n",
        "\n",
        "  IDF = np.log(len(unigramArray) / wordCountInDocs)\n",
        "  TFIDF = [];\n",
        "  i = 0;\n",
        "  for unigram in unigramArray:\n",
        "      TF = [];\n",
        "      j = 0\n",
        "      for word in wordDict:\n",
        "          wordCount = unigram.count(word);\n",
        "          tfidfCalc = (wordCount / max_word_counts_array[i]) * IDF[j]\n",
        "          TF.append(tfidfCalc);\n",
        "          j += 1;\n",
        "      i+=1;\n",
        "      TFIDF.append(TF)\n",
        "\n",
        "  TFIDF = np.array(TFIDF)\n",
        "  return TFIDF;"
      ],
      "metadata": {
        "id": "9kwUi6mcuoZF"
      },
      "execution_count": null,
      "outputs": []
    },
    {
      "cell_type": "markdown",
      "source": [
        "## 2.1"
      ],
      "metadata": {
        "id": "RngsyLfIKfOP"
      }
    },
    {
      "cell_type": "code",
      "source": [
        "import numpy as np\n",
        "import matplotlib.pyplot as plt\n",
        "from sklearn.model_selection import train_test_split\n",
        "from sklearn.tree import DecisionTreeClassifier\n",
        "from sklearn.metrics import accuracy_score\n",
        "\n",
        "\n",
        "labels = df['Category'].values\n",
        "TFIDF = preprocess(csvPath);\n",
        "# Split the data into training (80%) and validation (20%) sets\n",
        "X_train, X_val, y_train, y_val = train_test_split(TFIDF, labels, test_size=0.2, random_state=42)\n",
        "\n",
        "# Define different criterion settings\n",
        "criterion_values = [\"gini\", \"entropy\"]\n",
        "\n",
        "# Initialize lists to store training and validation accuracies\n",
        "training_accuracies = []\n",
        "validation_accuracies = []\n",
        "\n",
        "# Loop through different criterion settings\n",
        "for criterion in criterion_values:\n",
        "    # Create and train the decision tree classifier\n",
        "    dt_classifier = DecisionTreeClassifier(criterion=criterion, random_state=42)\n",
        "    dt_classifier.fit(X_train, y_train)\n",
        "\n",
        "    # Make predictions on training and validation sets\n",
        "    y_train_pred = dt_classifier.predict(X_train)\n",
        "    y_val_pred = dt_classifier.predict(X_val)\n",
        "\n",
        "    # Calculate accuracies\n",
        "    training_accuracy = accuracy_score(y_train, y_train_pred)\n",
        "    validation_accuracy = accuracy_score(y_val, y_val_pred)\n",
        "\n",
        "    # Append accuracies to lists\n",
        "    training_accuracies.append(training_accuracy)\n",
        "    validation_accuracies.append(validation_accuracy)\n",
        "\n",
        "# Plotting grouped bar chart with swapped roles\n",
        "bar_width = 0.35\n",
        "index = np.arange(len(criterion_values))\n",
        "\n",
        "fig, ax = plt.subplots(figsize=(8, 6))\n",
        "bar1 = ax.bar(index, validation_accuracies, bar_width, label='Validation Accuracy')\n",
        "bar2 = ax.bar(index + bar_width, training_accuracies, bar_width, label='Training Accuracy')\n",
        "\n",
        "ax.set_xlabel('Criterion')\n",
        "ax.set_ylabel('Accuracy')\n",
        "ax.set_title('Validation and Training Accuracy for Different Criterion Settings')\n",
        "ax.set_xticks(index + bar_width / 2)\n",
        "ax.set_xticklabels(criterion_values)\n",
        "ax.legend()\n",
        "\n",
        "plt.show()\n"
      ],
      "metadata": {
        "colab": {
          "base_uri": "https://localhost:8080/",
          "height": 743
        },
        "id": "coD22JIV5JY4",
        "outputId": "9317a479-a35b-4069-f000-d4cf22eeb5c3"
      },
      "execution_count": null,
      "outputs": [
        {
          "output_type": "stream",
          "name": "stdout",
          "text": [
            "0\n",
            "100\n",
            "200\n",
            "300\n",
            "400\n",
            "500\n",
            "600\n",
            "700\n",
            "800\n",
            "900\n"
          ]
        },
        {
          "output_type": "display_data",
          "data": {
            "text/plain": [
              "<Figure size 800x600 with 1 Axes>"
            ],
            "image/png": "[encoded data removed]"
          },
          "metadata": {}
        }
      ]
    },
    {
      "cell_type": "markdown",
      "source": [
        "## 2.2.1\n",
        "Decision Tree - minimum samples at leaf"
      ],
      "metadata": {
        "id": "EDiJTRL5Ku2w"
      }
    },
    {
      "cell_type": "code",
      "source": [
        "import pandas as pd\n",
        "import numpy as np\n",
        "from sklearn.model_selection import KFold\n",
        "from sklearn.tree import DecisionTreeClassifier\n",
        "import matplotlib.pyplot as plt\n",
        "\n",
        "train_val_X = np.vstack((X_train, X_val))\n",
        "train_val_y = np.concatenate((y_train, y_val))\n",
        "\n",
        "def dtc_parameter_tune(train_val_X, train_val_y):\n",
        "    min_samples_leaves = [10, 25, 50, 75, 100, 125, 150, 175, 200]\n",
        "    train_acc_all = []\n",
        "    val_acc_all = []\n",
        "\n",
        "    kf = KFold(n_splits=5, shuffle=True, random_state=42)\n",
        "\n",
        "    # Looping over hyperparameters\n",
        "    for min_samples_leaf_i in min_samples_leaves:\n",
        "        train_acc = []\n",
        "        val_acc = []\n",
        "\n",
        "        # Looping over the 5 folds\n",
        "        for train_index, val_index in kf.split(train_val_X):\n",
        "            train_X, val_X = train_val_X[train_index, :], train_val_X[val_index, :]\n",
        "            train_y, val_y = train_val_y[train_index], train_val_y[val_index]\n",
        "\n",
        "            dtc = DecisionTreeClassifier(min_samples_leaf=min_samples_leaf_i)\n",
        "            dtc.fit(train_X, train_y)\n",
        "            train_acc.append(dtc.score(train_X, train_y))\n",
        "            val_acc.append(dtc.score(val_X, val_y))\n",
        "\n",
        "        avg_train_acc = np.mean(train_acc)\n",
        "        std_train_acc = np.std(train_acc)\n",
        "        avg_val_acc = np.mean(val_acc)\n",
        "        std_val_acc = np.std(val_acc)\n",
        "\n",
        "        train_acc_all.append((avg_train_acc, std_train_acc))\n",
        "        val_acc_all.append((avg_val_acc, std_val_acc))\n",
        "\n",
        "    return min_samples_leaves, train_acc_all, val_acc_all\n",
        "\n",
        "min_samples_leaves, train_acc_all, val_acc_all = dtc_parameter_tune(train_val_X, train_val_y)\n",
        "\n",
        "# Display results in a table\n",
        "results_table = pd.DataFrame({\n",
        "    'min_samples_leaf': min_samples_leaves,\n",
        "    'avg_training_accuracy': [acc[0] for acc in train_acc_all],\n",
        "    'std_training_accuracy': [acc[1] for acc in train_acc_all],\n",
        "    'avg_validation_accuracy': [acc[0] for acc in val_acc_all],\n",
        "    'std_validation_accuracy': [acc[1] for acc in val_acc_all]\n",
        "})\n",
        "\n",
        "print(results_table)\n"
      ],
      "metadata": {
        "colab": {
          "base_uri": "https://localhost:8080/"
        },
        "id": "0nrfqHlm7_NT",
        "outputId": "fda502f7-5b53-4ed7-ab54-530cbe39e976"
      },
      "execution_count": null,
      "outputs": [
        {
          "output_type": "stream",
          "name": "stdout",
          "text": [
            "   min_samples_leaf  avg_training_accuracy  std_training_accuracy  \\\n",
            "0                10                0.86775               0.006093   \n",
            "1                25                0.77125               0.013555   \n",
            "2                50                0.71950               0.007357   \n",
            "3                75                0.65475               0.014841   \n",
            "4               100                0.57825               0.026886   \n",
            "5               125                0.50825               0.005948   \n",
            "6               150                0.49475               0.015600   \n",
            "7               175                0.44150               0.007722   \n",
            "8               200                0.37325               0.005397   \n",
            "\n",
            "   avg_validation_accuracy  std_validation_accuracy  \n",
            "0                    0.772                 0.015033  \n",
            "1                    0.724                 0.011576  \n",
            "2                    0.688                 0.006000  \n",
            "3                    0.612                 0.038026  \n",
            "4                    0.543                 0.038288  \n",
            "5                    0.481                 0.020591  \n",
            "6                    0.462                 0.026571  \n",
            "7                    0.425                 0.014142  \n",
            "8                    0.348                 0.018868  \n"
          ]
        }
      ]
    },
    {
      "cell_type": "markdown",
      "source": [
        "## 2.2.2"
      ],
      "metadata": {
        "id": "hhMhEBMqKybZ"
      }
    },
    {
      "cell_type": "code",
      "source": [
        "\n",
        "# Plot training/validation curves\n",
        "plt.errorbar(min_samples_leaves, [acc[0] for acc in train_acc_all], yerr=[acc[1] for acc in train_acc_all], marker='.', label=\"Training accuracy\")\n",
        "plt.errorbar(min_samples_leaves, [acc[0] for acc in val_acc_all], yerr=[acc[1] for acc in val_acc_all], marker='.', label=\"Validation accuracy\")\n",
        "plt.xlabel('min_samples_leaf of tree')\n",
        "plt.ylabel('Accuracy')\n",
        "plt.legend()\n",
        "plt.show()"
      ],
      "metadata": {
        "colab": {
          "base_uri": "https://localhost:8080/",
          "height": 454
        },
        "id": "JRFFztlAAw8v",
        "outputId": "c609ff84-981c-4673-ba0d-f7c30db1f9a4"
      },
      "execution_count": null,
      "outputs": [
        {
          "output_type": "display_data",
          "data": {
            "text/plain": [
              "<Figure size 640x480 with 1 Axes>"
            ],
            "image/png": "[encoded data removed]"
          },
          "metadata": {}
        }
      ]
    },
    {
      "cell_type": "markdown",
      "source": [
        "## 2.3\n",
        "Decision trees - max_features"
      ],
      "metadata": {
        "id": "phd2LX44K3Xk"
      }
    },
    {
      "cell_type": "code",
      "source": [
        "import pandas as pd\n",
        "import numpy as np\n",
        "from sklearn.model_selection import KFold\n",
        "from sklearn.tree import DecisionTreeClassifier\n",
        "import matplotlib.pyplot as plt\n",
        "\n",
        "train_val_X = np.vstack((X_train, X_val))\n",
        "train_val_y = np.concatenate((y_train, y_val))\n",
        "\n",
        "def dtc_parameter_tune(train_val_X, train_val_y, param_values, param_name):\n",
        "    train_acc_all = []\n",
        "    val_acc_all = []\n",
        "\n",
        "    kf = KFold(n_splits=5, shuffle=True, random_state=42)\n",
        "\n",
        "    for param_value in param_values:\n",
        "        train_acc = []\n",
        "        val_acc = []\n",
        "\n",
        "        for train_index, val_index in kf.split(train_val_X):\n",
        "            train_X, val_X = train_val_X[train_index, :], train_val_X[val_index, :]\n",
        "            train_y, val_y = train_val_y[train_index], train_val_y[val_index]\n",
        "\n",
        "            dtc = DecisionTreeClassifier(**{param_name: param_value})\n",
        "            dtc.fit(train_X, train_y)\n",
        "            train_acc.append(dtc.score(train_X, train_y))\n",
        "            val_acc.append(dtc.score(val_X, val_y))\n",
        "\n",
        "        avg_train_acc = np.mean(train_acc)\n",
        "        std_train_acc = np.std(train_acc)\n",
        "        avg_val_acc = np.mean(val_acc)\n",
        "        std_val_acc = np.std(val_acc)\n",
        "\n",
        "        train_acc_all.append((avg_train_acc, std_train_acc))\n",
        "        val_acc_all.append((avg_val_acc, std_val_acc))\n",
        "\n",
        "    return param_values, train_acc_all, val_acc_all\n",
        "\n",
        "# Specify values for max_features parameter (you can modify this as needed)\n",
        "# max_features_values = [None, 'sqrt', 'alog2', 0.5]\n",
        "max_features_values = [1, 10, 50, 100, 150, 250, 450, 500, 600, 720, 830, 950, 1000]\n",
        "\n",
        "max_features_values, train_acc_all, val_acc_all = dtc_parameter_tune(train_val_X, train_val_y, max_features_values, 'max_features')\n",
        "\n",
        "# Display results in a table\n",
        "results_table = pd.DataFrame({\n",
        "    'max_features': max_features_values,\n",
        "    'avg_training_accuracy': [acc[0] for acc in train_acc_all],\n",
        "    'std_training_accuracy': [acc[1] for acc in train_acc_all],\n",
        "    'avg_validation_accuracy': [acc[0] for acc in val_acc_all],\n",
        "    'std_validation_accuracy': [acc[1] for acc in val_acc_all]\n",
        "})\n",
        "\n",
        "print(results_table)\n",
        "\n",
        "# Plot training/validation curves\n",
        "# max_features_values = ['None', 'sqrt', 'log2', '0.5']\n",
        "max_features_values = list(map(str, max_features_values))\n",
        "plt.errorbar(max_features_values, [acc[0] for acc in train_acc_all], yerr=[acc[1] for acc in train_acc_all], marker='.', label=\"Training accuracy\")\n",
        "plt.errorbar(max_features_values, [acc[0] for acc in val_acc_all], yerr=[acc[1] for acc in val_acc_all], marker='.', label=\"Validation accuracy\")\n",
        "plt.xlabel('max_features')\n",
        "plt.ylabel('Accuracy')\n",
        "plt.legend()\n",
        "plt.show()\n"
      ],
      "metadata": {
        "colab": {
          "base_uri": "https://localhost:8080/",
          "height": 968
        },
        "id": "j6fP0-31CFsk",
        "outputId": "095df203-bdb6-4d61-f855-baa421c04208"
      },
      "execution_count": null,
      "outputs": [
        {
          "output_type": "stream",
          "name": "stdout",
          "text": [
            "    max_features  avg_training_accuracy  std_training_accuracy  \\\n",
            "0              1                    1.0                    0.0   \n",
            "1             10                    1.0                    0.0   \n",
            "2             50                    1.0                    0.0   \n",
            "3            100                    1.0                    0.0   \n",
            "4            150                    1.0                    0.0   \n",
            "5            250                    1.0                    0.0   \n",
            "6            450                    1.0                    0.0   \n",
            "7            500                    1.0                    0.0   \n",
            "8            600                    1.0                    0.0   \n",
            "9            720                    1.0                    0.0   \n",
            "10           830                    1.0                    0.0   \n",
            "11           950                    1.0                    0.0   \n",
            "12          1000                    1.0                    0.0   \n",
            "\n",
            "    avg_validation_accuracy  std_validation_accuracy  \n",
            "0                     0.519                 0.046840  \n",
            "1                     0.662                 0.022935  \n",
            "2                     0.762                 0.035014  \n",
            "3                     0.749                 0.020833  \n",
            "4                     0.751                 0.034986  \n",
            "5                     0.761                 0.027276  \n",
            "6                     0.782                 0.010296  \n",
            "7                     0.787                 0.020149  \n",
            "8                     0.800                 0.041231  \n",
            "9                     0.795                 0.019235  \n",
            "10                    0.811                 0.022226  \n",
            "11                    0.805                 0.008944  \n",
            "12                    0.809                 0.011576  \n"
          ]
        },
        {
          "output_type": "display_data",
          "data": {
            "text/plain": [
              "<Figure size 640x480 with 1 Axes>"
            ],
            "image/png": "[encoded data removed]"
          },
          "metadata": {}
        }
      ]
    },
    {
      "cell_type": "markdown",
      "source": [
        "## 3.1"
      ],
      "metadata": {
        "id": "4GVq1GfRK8iC"
      }
    },
    {
      "cell_type": "code",
      "source": [
        "from sklearn.ensemble import RandomForestClassifier\n",
        "from sklearn.model_selection import cross_val_score\n",
        "\n",
        "# Load your pre-processed training data\n",
        "# X_train and y_train represent the feature matrix and target vector\n",
        "\n",
        "# Define Random Forest Classifier with chosen parameters\n",
        "rf_classifier = RandomForestClassifier(\n",
        "    n_estimators=100,  # Adjust as needed\n",
        "    max_depth=None,    # Adjust as needed\n",
        "    min_samples_leaf=1, # Adjust as needed\n",
        "    max_features='auto',  # Adjust as needed\n",
        "    random_state=42  # Set a random seed for reproducibility\n",
        ")\n",
        "\n",
        "# Evaluate the model using cross-validation\n",
        "cross_val_accuracy = cross_val_score(rf_classifier, X_train, y_train, cv=5)\n",
        "\n",
        "# Print the average and standard deviation of cross-validation accuracy\n",
        "print(\"Average Cross-Validation Accuracy: {:.2f}%\".format(100 * cross_val_accuracy.mean()))\n",
        "print(\"Standard Deviation of Cross-Validation Accuracy: {:.2f}%\".format(100 * cross_val_accuracy.std()))\n"
      ],
      "metadata": {
        "colab": {
          "base_uri": "https://localhost:8080/"
        },
        "id": "6T1-HZmyFJcH",
        "outputId": "eee6f54b-c050-4d0c-bc12-fe925c60e710"
      },
      "execution_count": null,
      "outputs": [
        {
          "output_type": "stream",
          "name": "stderr",
          "text": [
            "/usr/local/lib/python3.10/dist-packages/sklearn/ensemble/_forest.py:424: FutureWarning: `max_features='auto'` has been deprecated in 1.1 and will be removed in 1.3. To keep the past behaviour, explicitly set `max_features='sqrt'` or remove this parameter as it is also the default value for RandomForestClassifiers and ExtraTreesClassifiers.\n",
            "  warn(\n",
            "/usr/local/lib/python3.10/dist-packages/sklearn/ensemble/_forest.py:424: FutureWarning: `max_features='auto'` has been deprecated in 1.1 and will be removed in 1.3. To keep the past behaviour, explicitly set `max_features='sqrt'` or remove this parameter as it is also the default value for RandomForestClassifiers and ExtraTreesClassifiers.\n",
            "  warn(\n",
            "/usr/local/lib/python3.10/dist-packages/sklearn/ensemble/_forest.py:424: FutureWarning: `max_features='auto'` has been deprecated in 1.1 and will be removed in 1.3. To keep the past behaviour, explicitly set `max_features='sqrt'` or remove this parameter as it is also the default value for RandomForestClassifiers and ExtraTreesClassifiers.\n",
            "  warn(\n",
            "/usr/local/lib/python3.10/dist-packages/sklearn/ensemble/_forest.py:424: FutureWarning: `max_features='auto'` has been deprecated in 1.1 and will be removed in 1.3. To keep the past behaviour, explicitly set `max_features='sqrt'` or remove this parameter as it is also the default value for RandomForestClassifiers and ExtraTreesClassifiers.\n",
            "  warn(\n",
            "/usr/local/lib/python3.10/dist-packages/sklearn/ensemble/_forest.py:424: FutureWarning: `max_features='auto'` has been deprecated in 1.1 and will be removed in 1.3. To keep the past behaviour, explicitly set `max_features='sqrt'` or remove this parameter as it is also the default value for RandomForestClassifiers and ExtraTreesClassifiers.\n",
            "  warn(\n"
          ]
        },
        {
          "output_type": "stream",
          "name": "stdout",
          "text": [
            "Average Cross-Validation Accuracy: 94.50%\n",
            "Standard Deviation of Cross-Validation Accuracy: 1.39%\n"
          ]
        }
      ]
    },
    {
      "cell_type": "markdown",
      "source": [
        "## 3.2 n_estimators"
      ],
      "metadata": {
        "id": "a13HEDzjLA2P"
      }
    },
    {
      "cell_type": "code",
      "source": [
        "import numpy as np\n",
        "import pandas as pd\n",
        "import matplotlib.pyplot as plt\n",
        "from sklearn.ensemble import RandomForestClassifier\n",
        "from sklearn.model_selection import KFold\n",
        "\n",
        "# Load your pre-processed training data\n",
        "# X_train and y_train represent the feature matrix and target vector\n",
        "train_val_X = np.vstack((X_train, X_val))\n",
        "train_val_y = np.concatenate((y_train, y_val))\n",
        "\n",
        "# Define the range of n_estimators values to evaluate\n",
        "n_estimators_values = [50, 100, 150, 200, 250]\n",
        "\n",
        "# Create empty lists to store results\n",
        "avg_train_accuracies = []\n",
        "std_train_accuracies = []\n",
        "avg_val_accuracies = []\n",
        "std_val_accuracies = []\n",
        "\n",
        "# Perform 5-fold cross-validation for each n_estimators value\n",
        "kf = KFold(n_splits=5, shuffle=True, random_state=42)\n",
        "\n",
        "for n_estimators in n_estimators_values:\n",
        "    train_accuracies = []\n",
        "    val_accuracies = []\n",
        "\n",
        "    for train_index, val_index in kf.split(train_val_X):\n",
        "        train_X, val_X = train_val_X[train_index], train_val_X[val_index]\n",
        "        train_y, val_y = train_val_y[train_index], train_val_y[val_index]\n",
        "\n",
        "        rf_classifier = RandomForestClassifier(n_estimators=n_estimators, random_state=42)\n",
        "\n",
        "        # Fit on training data\n",
        "        rf_classifier.fit(train_X, train_y)\n",
        "\n",
        "        # Training accuracy\n",
        "        train_accuracy = rf_classifier.score(train_X, train_y)\n",
        "        train_accuracies.append(train_accuracy)\n",
        "\n",
        "        # Validation accuracy\n",
        "        val_accuracy = rf_classifier.score(val_X, val_y)\n",
        "        val_accuracies.append(val_accuracy)\n",
        "\n",
        "    # Store average and standard deviation of training accuracy\n",
        "    avg_train_accuracies.append(np.mean(train_accuracies))\n",
        "    std_train_accuracies.append(np.std(train_accuracies))\n",
        "\n",
        "    # Store average and standard deviation of validation accuracy\n",
        "    avg_val_accuracies.append(np.mean(val_accuracies))\n",
        "    std_val_accuracies.append(np.std(val_accuracies))\n",
        "\n",
        "# Organize the results in a table\n",
        "results_table = pd.DataFrame({\n",
        "    'n_estimators': n_estimators_values,\n",
        "    'avg_training_accuracy': avg_train_accuracies,\n",
        "    'std_training_accuracy': std_train_accuracies,\n",
        "    'avg_validation_accuracy': avg_val_accuracies,\n",
        "    'std_validation_accuracy': std_val_accuracies\n",
        "})\n",
        "\n",
        "# Print the results table\n",
        "print(\"Results for different n_estimators values:\")\n",
        "print(results_table)\n",
        "\n",
        "# Draw a line figure for n_estimators\n",
        "plt.errorbar(n_estimators_values, avg_train_accuracies, yerr=std_train_accuracies, marker='.', label=\"Training accuracy\")\n",
        "plt.errorbar(n_estimators_values, avg_val_accuracies, yerr=std_val_accuracies, marker='.', label=\"Validation accuracy\")\n",
        "plt.xlabel('Number of Trees (n_estimators)')\n",
        "plt.ylabel('Accuracy')\n",
        "plt.legend()\n",
        "plt.show()\n"
      ],
      "metadata": {
        "colab": {
          "base_uri": "https://localhost:8080/",
          "height": 700
        },
        "id": "Haom9Q073yww",
        "outputId": "ef077985-ab38-443e-82bd-fc7e9664ca84"
      },
      "execution_count": null,
      "outputs": [
        {
          "output_type": "stream",
          "name": "stdout",
          "text": [
            "Results for different n_estimators values:\n",
            "   n_estimators  avg_training_accuracy  std_training_accuracy  \\\n",
            "0            50                    1.0                    0.0   \n",
            "1           100                    1.0                    0.0   \n",
            "2           150                    1.0                    0.0   \n",
            "3           200                    1.0                    0.0   \n",
            "4           250                    1.0                    0.0   \n",
            "\n",
            "   avg_validation_accuracy  std_validation_accuracy  \n",
            "0                    0.933                 0.005099  \n",
            "1                    0.943                 0.008718  \n",
            "2                    0.949                 0.008000  \n",
            "3                    0.947                 0.010296  \n",
            "4                    0.943                 0.010296  \n"
          ]
        },
        {
          "output_type": "display_data",
          "data": {
            "text/plain": [
              "<Figure size 640x480 with 1 Axes>"
            ],
            "image/png": "[encoded data removed]"
          },
          "metadata": {}
        }
      ]
    },
    {
      "cell_type": "markdown",
      "source": [
        "## 3.3 min_samples_leaf_values"
      ],
      "metadata": {
        "id": "ACoQt28VLFTp"
      }
    },
    {
      "cell_type": "code",
      "source": [
        "import numpy as np\n",
        "import pandas as pd\n",
        "import matplotlib.pyplot as plt\n",
        "from sklearn.ensemble import RandomForestClassifier\n",
        "from sklearn.model_selection import KFold\n",
        "\n",
        "# Load your pre-processed training data\n",
        "# X_train and y_train are NumPy arrays representing the feature matrix and target vector\n",
        "train_val_X = np.vstack((X_train, X_val))\n",
        "train_val_y = np.concatenate((y_train, y_val))\n",
        "\n",
        "# Define the range of min_samples_leaf values to evaluate\n",
        "min_samples_leaf_values = [1, 5, 10, 20, 35, 50]\n",
        "\n",
        "# Create empty lists to store results\n",
        "avg_train_accuracies = []\n",
        "std_train_accuracies = []\n",
        "avg_val_accuracies = []\n",
        "std_val_accuracies = []\n",
        "\n",
        "# Perform 5-fold cross-validation for each min_samples_leaf value\n",
        "kf = KFold(n_splits=5, shuffle=True, random_state=42)\n",
        "\n",
        "for min_samples_leaf in min_samples_leaf_values:\n",
        "    train_accuracies = []\n",
        "    val_accuracies = []\n",
        "\n",
        "    for train_index, val_index in kf.split(X_train):\n",
        "        train_X, val_X = train_val_X[train_index], train_val_X[val_index]\n",
        "        train_y, val_y = train_val_y[train_index], train_val_y[val_index]\n",
        "\n",
        "        rf_classifier = RandomForestClassifier(min_samples_leaf=min_samples_leaf, random_state=42)\n",
        "\n",
        "        # Fit on training data\n",
        "        rf_classifier.fit(train_X, train_y)\n",
        "\n",
        "        # Training accuracy\n",
        "        train_accuracy = rf_classifier.score(train_X, train_y)\n",
        "        train_accuracies.append(train_accuracy)\n",
        "\n",
        "        # Validation accuracy\n",
        "        val_accuracy = rf_classifier.score(val_X, val_y)\n",
        "        val_accuracies.append(val_accuracy)\n",
        "\n",
        "    # Store average and standard deviation of training accuracy\n",
        "    avg_train_accuracies.append(np.mean(train_accuracies))\n",
        "    std_train_accuracies.append(np.std(train_accuracies))\n",
        "\n",
        "    # Store average and standard deviation of validation accuracy\n",
        "    avg_val_accuracies.append(np.mean(val_accuracies))\n",
        "    std_val_accuracies.append(np.std(val_accuracies))\n",
        "\n",
        "# Organize the results in a table\n",
        "results_table = pd.DataFrame({\n",
        "    'min_samples_leaf': min_samples_leaf_values,\n",
        "    'avg_training_accuracy': avg_train_accuracies,\n",
        "    'std_training_accuracy': std_train_accuracies,\n",
        "    'avg_validation_accuracy': avg_val_accuracies,\n",
        "    'std_validation_accuracy': std_val_accuracies\n",
        "})\n",
        "\n",
        "# Print the results table\n",
        "print(\"Results for different min_samples_leaf values:\")\n",
        "print(results_table)\n",
        "\n",
        "# Draw a line figure for min_samples_leaf\n",
        "plt.errorbar(min_samples_leaf_values, avg_train_accuracies, yerr=std_train_accuracies, marker='.', label=\"Training accuracy\")\n",
        "plt.errorbar(min_samples_leaf_values, avg_val_accuracies, yerr=std_val_accuracies, marker='.', label=\"Validation accuracy\")\n",
        "plt.xlabel('Minimum Samples at Leaf (min_samples_leaf)')\n",
        "plt.ylabel('Accuracy')\n",
        "plt.legend()\n",
        "plt.show()\n"
      ],
      "metadata": {
        "colab": {
          "base_uri": "https://localhost:8080/",
          "height": 736
        },
        "id": "8Sk4uiV8GGYO",
        "outputId": "9e5022ca-f592-4ec4-c2af-a1aecf87c70c"
      },
      "execution_count": null,
      "outputs": [
        {
          "output_type": "stream",
          "name": "stdout",
          "text": [
            "Results for different min_samples_leaf values:\n",
            "   min_samples_leaf  avg_training_accuracy  std_training_accuracy  \\\n",
            "0                 1               1.000000               0.000000   \n",
            "1                 5               0.991875               0.002688   \n",
            "2                10               0.966250               0.003366   \n",
            "3                20               0.929063               0.005467   \n",
            "4                35               0.881562               0.007487   \n",
            "5                50               0.759375               0.014757   \n",
            "\n",
            "   avg_validation_accuracy  std_validation_accuracy  \n",
            "0                  0.93750                 0.025000  \n",
            "1                  0.93125                 0.024044  \n",
            "2                  0.92250                 0.029208  \n",
            "3                  0.90375                 0.026984  \n",
            "4                  0.85500                 0.015000  \n",
            "5                  0.69625                 0.032740  \n"
          ]
        },
        {
          "output_type": "display_data",
          "data": {
            "text/plain": [
              "<Figure size 640x480 with 1 Axes>"
            ],
            "image/png": "[encoded data removed]"
          },
          "metadata": {}
        }
      ]
    },
    {
      "cell_type": "markdown",
      "source": [
        "## 4.1\n",
        "I generated tokenized the documents using previous homework's code, which means, punctuation and stopwords were removed, and the remaining part was made to be in lower case.\n",
        "\n",
        "Now, we can't directly operate on strings, which meant we required some sort of mapping from strings to numbers. There were many options. One of the good ones was to create a TF-IDF array, which will have words with greater significance for that document having greater TF-IDF score.\n",
        "\n",
        "## 4.2\n",
        "After running many variations of decision trees, Random forest seems ot have the highest accuracy, of around 97.8%.\n",
        "\n",
        "We previously experimented with n_estimator minimum samples at leaf values for random forests using 5-fold cross validation, and found the best values for each. Thus, moving forward, we'd use 1 for minimum samples at leaf and 200 for n_estimators."
      ],
      "metadata": {
        "id": "AQuSGbkILKsg"
      }
    },
    {
      "cell_type": "markdown",
      "source": [
        "## 4.3 Training model on the entire training data."
      ],
      "metadata": {
        "id": "o7uIjxOvUBlC"
      }
    },
    {
      "cell_type": "code",
      "source": [
        "train_X = np.vstack((X_train, X_val))\n",
        "train_y = np.concatenate((y_train, y_val))"
      ],
      "metadata": {
        "id": "Lg-Ug6BmHpx_"
      },
      "execution_count": null,
      "outputs": []
    },
    {
      "cell_type": "code",
      "source": [
        "from sklearn.ensemble import RandomForestClassifier\n",
        "rf_classifier = RandomForestClassifier(n_estimators=200, min_samples_leaf=1, random_state=42)\n",
        "rf_classifier.fit(train_X, train_y)"
      ],
      "metadata": {
        "colab": {
          "base_uri": "https://localhost:8080/",
          "height": 75
        },
        "id": "wA2HBuRoURbw",
        "outputId": "b8d2d3fc-f8dd-4fa2-e64e-89bd912996bd"
      },
      "execution_count": null,
      "outputs": [
        {
          "output_type": "execute_result",
          "data": {
            "text/plain": [
              "RandomForestClassifier(n_estimators=200, random_state=42)"
            ],
            "text/html": [
              "<style>#sk-container-id-1 {color: black;background-color: white;}#sk-container-id-1 pre{padding: 0;}#sk-container-id-1 div.sk-toggleable {background-color: white;}#sk-container-id-1 label.sk-toggleable__label {cursor: pointer;display: block;width: 100%;margin-bottom: 0;padding: 0.3em;box-sizing: border-box;text-align: center;}#sk-container-id-1 label.sk-toggleable__label-arrow:before {content: \"▸\";float: left;margin-right: 0.25em;color: #696969;}#sk-container-id-1 label.sk-toggleable__label-arrow:hover:before {color: black;}#sk-container-id-1 div.sk-estimator:hover label.sk-toggleable__label-arrow:before {color: black;}#sk-container-id-1 div.sk-toggleable__content {max-height: 0;max-width: 0;overflow: hidden;text-align: left;background-color: #f0f8ff;}#sk-container-id-1 div.sk-toggleable__content pre {margin: 0.2em;color: black;border-radius: 0.25em;background-color: #f0f8ff;}#sk-container-id-1 input.sk-toggleable__control:checked~div.sk-toggleable__content {max-height: 200px;max-width: 100%;overflow: auto;}#sk-container-id-1 input.sk-toggleable__control:checked~label.sk-toggleable__label-arrow:before {content: \"▾\";}#sk-container-id-1 div.sk-estimator input.sk-toggleable__control:checked~label.sk-toggleable__label {background-color: #d4ebff;}#sk-container-id-1 div.sk-label input.sk-toggleable__control:checked~label.sk-toggleable__label {background-color: #d4ebff;}#sk-container-id-1 input.sk-hidden--visually {border: 0;clip: rect(1px 1px 1px 1px);clip: rect(1px, 1px, 1px, 1px);height: 1px;margin: -1px;overflow: hidden;padding: 0;position: absolute;width: 1px;}#sk-container-id-1 div.sk-estimator {font-family: monospace;background-color: #f0f8ff;border: 1px dotted black;border-radius: 0.25em;box-sizing: border-box;margin-bottom: 0.5em;}#sk-container-id-1 div.sk-estimator:hover {background-color: #d4ebff;}#sk-container-id-1 div.sk-parallel-item::after {content: \"\";width: 100%;border-bottom: 1px solid gray;flex-grow: 1;}#sk-container-id-1 div.sk-label:hover label.sk-toggleable__label {background-color: #d4ebff;}#sk-container-id-1 div.sk-serial::before {content: \"\";position: absolute;border-left: 1px solid gray;box-sizing: border-box;top: 0;bottom: 0;left: 50%;z-index: 0;}#sk-container-id-1 div.sk-serial {display: flex;flex-direction: column;align-items: center;background-color: white;padding-right: 0.2em;padding-left: 0.2em;position: relative;}#sk-container-id-1 div.sk-item {position: relative;z-index: 1;}#sk-container-id-1 div.sk-parallel {display: flex;align-items: stretch;justify-content: center;background-color: white;position: relative;}#sk-container-id-1 div.sk-item::before, #sk-container-id-1 div.sk-parallel-item::before {content: \"\";position: absolute;border-left: 1px solid gray;box-sizing: border-box;top: 0;bottom: 0;left: 50%;z-index: -1;}#sk-container-id-1 div.sk-parallel-item {display: flex;flex-direction: column;z-index: 1;position: relative;background-color: white;}#sk-container-id-1 div.sk-parallel-item:first-child::after {align-self: flex-end;width: 50%;}#sk-container-id-1 div.sk-parallel-item:last-child::after {align-self: flex-start;width: 50%;}#sk-container-id-1 div.sk-parallel-item:only-child::after {width: 0;}#sk-container-id-1 div.sk-dashed-wrapped {border: 1px dashed gray;margin: 0 0.4em 0.5em 0.4em;box-sizing: border-box;padding-bottom: 0.4em;background-color: white;}#sk-container-id-1 div.sk-label label {font-family: monospace;font-weight: bold;display: inline-block;line-height: 1.2em;}#sk-container-id-1 div.sk-label-container {text-align: center;}#sk-container-id-1 div.sk-container {/* jupyter's `normalize.less` sets `[hidden] { display: none; }` but bootstrap.min.css set `[hidden] { display: none !important; }` so we also need the `!important` here to be able to override the default hidden behavior on the sphinx rendered scikit-learn.org. See: https://github.com/scikit-learn/scikit-learn/issues/21755 */display: inline-block !important;position: relative;}#sk-container-id-1 div.sk-text-repr-fallback {display: none;}</style><div id=\"sk-container-id-1\" class=\"sk-top-container\"><div class=\"sk-text-repr-fallback\"><pre>RandomForestClassifier(n_estimators=200, random_state=42)</pre><b>In a Jupyter environment, please rerun this cell to show the HTML representation or trust the notebook. <br />On GitHub, the HTML representation is unable to render, please try loading this page with nbviewer.org.</b></div><div class=\"sk-container\" hidden><div class=\"sk-item\"><div class=\"sk-estimator sk-toggleable\"><input class=\"sk-toggleable__control sk-hidden--visually\" id=\"sk-estimator-id-1\" type=\"checkbox\" checked><label for=\"sk-estimator-id-1\" class=\"sk-toggleable__label sk-toggleable__label-arrow\">RandomForestClassifier</label><div class=\"sk-toggleable__content\"><pre>RandomForestClassifier(n_estimators=200, random_state=42)</pre></div></div></div></div></div>"
            ]
          },
          "metadata": {},
          "execution_count": 12
        }
      ]
    },
    {
      "cell_type": "code",
      "source": [
        "from sklearn.ensemble import RandomForestClassifier\n",
        "from sklearn.metrics import accuracy_score\n",
        "\n",
        "rf_classifier = RandomForestClassifier(n_estimators=200, min_samples_leaf=1, random_state=42)\n",
        "\n",
        "rf_classifier.fit(train_X, train_y)\n",
        "\n",
        "train_predictions = rf_classifier.predict(train_X)\n",
        "\n",
        "train_accuracy = accuracy_score(train_y, train_predictions)\n",
        "print(\"Training Accuracy:\", 100*train_accuracy)\n"
      ],
      "metadata": {
        "colab": {
          "base_uri": "https://localhost:8080/"
        },
        "id": "SCnAsyITVVar",
        "outputId": "9afc44c4-5657-44e5-d69a-f0fb7f005c30"
      },
      "execution_count": null,
      "outputs": [
        {
          "output_type": "stream",
          "name": "stdout",
          "text": [
            "Training Accuracy: 100.0\n"
          ]
        }
      ]
    },
    {
      "cell_type": "code",
      "source": [
        "import pandas as pd\n",
        "\n",
        "# Replace 'news-test.csv' with the actual file path of your testing data\n",
        "file_path = 'news-test.csv'\n",
        "\n",
        "# Read the testing data into a DataFrame\n",
        "news_test = pd.read_csv(file_path)\n",
        "TFIDF_test = preprocess(file_path);\n",
        "# Display the first few rows of the DataFrame for verification\n",
        "print(news_test.head())\n"
      ],
      "metadata": {
        "colab": {
          "base_uri": "https://localhost:8080/"
        },
        "id": "M34hAY3MaT52",
        "outputId": "c2ac5847-a423-4314-e1e6-fcb903086c8c"
      },
      "execution_count": null,
      "outputs": [
        {
          "output_type": "stream",
          "name": "stdout",
          "text": [
            "0\n",
            "100\n",
            "200\n",
            "300\n",
            "400\n",
            "500\n",
            "600\n",
            "700\n",
            "   ArticleId                                               Text\n",
            "0       1018  qpr keeper day heads for preston queens park r...\n",
            "1       1319  software watching while you work software that...\n",
            "2       1138  d arcy injury adds to ireland woe gordon d arc...\n",
            "3        459  india s reliance family feud heats up the ongo...\n",
            "4       1020  boro suffer morrison injury blow middlesbrough...\n"
          ]
        }
      ]
    },
    {
      "cell_type": "code",
      "source": [
        "import pandas as pd\n",
        "from sklearn.ensemble import RandomForestClassifier\n",
        "import joblib\n",
        "\n",
        "test_predictions = rf_classifier.predict(TFIDF_test)\n",
        "\n",
        "labels_df = pd.DataFrame({'ArticleId': news_test['ArticleId'], 'prediction': test_predictions})\n",
        "\n",
        "labels_df.to_csv('labels.csv', index=False)\n"
      ],
      "metadata": {
        "id": "yp16Rys2VyrG"
      },
      "execution_count": null,
      "outputs": []
    },
    {
      "cell_type": "code",
      "source": [
        "import pandas as pd\n",
        "\n",
        "# Load the CSV files into DataFrames\n",
        "file1_path = 'labels.csv'\n",
        "file2_path = 'predictions.csv'\n",
        "\n",
        "df1 = pd.read_csv(file1_path)\n",
        "df2 = pd.read_csv(file2_path)\n",
        "\n",
        "# Create a mask of differences\n",
        "differences_mask = (df1.values != df2.values)\n",
        "\n",
        "# Get the indices of differences\n",
        "differences_indices = np.column_stack(np.where(differences_mask))\n",
        "\n",
        "# Display differences\n",
        "if np.any(differences_mask):\n",
        "    print(\"Differences found at the following locations:\")\n",
        "    for idx in differences_indices:\n",
        "        print(f\"Row: {idx[0]}, Column: {idx[1]}\")\n",
        "else:\n",
        "    print(\"The CSV files have identical values.\")"
      ],
      "metadata": {
        "colab": {
          "base_uri": "https://localhost:8080/"
        },
        "id": "mD6ZJg1ebCII",
        "outputId": "452c7792-e244-4ead-fea2-3987c1de7c49"
      },
      "execution_count": null,
      "outputs": [
        {
          "output_type": "stream",
          "name": "stdout",
          "text": [
            "Differences found at the following locations:\n",
            "Row: 0, Column: 1\n",
            "Row: 10, Column: 1\n",
            "Row: 16, Column: 1\n",
            "Row: 24, Column: 1\n",
            "Row: 40, Column: 1\n",
            "Row: 42, Column: 1\n",
            "Row: 55, Column: 1\n",
            "Row: 59, Column: 1\n",
            "Row: 64, Column: 1\n",
            "Row: 70, Column: 1\n",
            "Row: 76, Column: 1\n",
            "Row: 79, Column: 1\n",
            "Row: 80, Column: 1\n",
            "Row: 82, Column: 1\n",
            "Row: 83, Column: 1\n",
            "Row: 84, Column: 1\n",
            "Row: 87, Column: 1\n",
            "Row: 93, Column: 1\n",
            "Row: 104, Column: 1\n",
            "Row: 105, Column: 1\n",
            "Row: 113, Column: 1\n",
            "Row: 115, Column: 1\n",
            "Row: 116, Column: 1\n",
            "Row: 123, Column: 1\n",
            "Row: 125, Column: 1\n",
            "Row: 136, Column: 1\n",
            "Row: 139, Column: 1\n",
            "Row: 141, Column: 1\n",
            "Row: 146, Column: 1\n",
            "Row: 149, Column: 1\n",
            "Row: 151, Column: 1\n",
            "Row: 155, Column: 1\n",
            "Row: 156, Column: 1\n",
            "Row: 166, Column: 1\n",
            "Row: 173, Column: 1\n",
            "Row: 174, Column: 1\n",
            "Row: 178, Column: 1\n",
            "Row: 183, Column: 1\n",
            "Row: 185, Column: 1\n",
            "Row: 187, Column: 1\n",
            "Row: 189, Column: 1\n",
            "Row: 190, Column: 1\n",
            "Row: 191, Column: 1\n",
            "Row: 201, Column: 1\n",
            "Row: 202, Column: 1\n",
            "Row: 203, Column: 1\n",
            "Row: 209, Column: 1\n",
            "Row: 214, Column: 1\n",
            "Row: 216, Column: 1\n",
            "Row: 220, Column: 1\n",
            "Row: 225, Column: 1\n",
            "Row: 227, Column: 1\n",
            "Row: 235, Column: 1\n",
            "Row: 240, Column: 1\n",
            "Row: 241, Column: 1\n",
            "Row: 249, Column: 1\n",
            "Row: 250, Column: 1\n",
            "Row: 251, Column: 1\n",
            "Row: 254, Column: 1\n",
            "Row: 255, Column: 1\n",
            "Row: 256, Column: 1\n",
            "Row: 260, Column: 1\n",
            "Row: 265, Column: 1\n",
            "Row: 267, Column: 1\n",
            "Row: 268, Column: 1\n",
            "Row: 274, Column: 1\n",
            "Row: 279, Column: 1\n",
            "Row: 283, Column: 1\n",
            "Row: 285, Column: 1\n",
            "Row: 288, Column: 1\n",
            "Row: 290, Column: 1\n",
            "Row: 295, Column: 1\n",
            "Row: 303, Column: 1\n",
            "Row: 304, Column: 1\n",
            "Row: 308, Column: 1\n",
            "Row: 309, Column: 1\n",
            "Row: 318, Column: 1\n",
            "Row: 320, Column: 1\n",
            "Row: 330, Column: 1\n",
            "Row: 332, Column: 1\n",
            "Row: 333, Column: 1\n",
            "Row: 336, Column: 1\n",
            "Row: 337, Column: 1\n",
            "Row: 338, Column: 1\n",
            "Row: 341, Column: 1\n",
            "Row: 342, Column: 1\n",
            "Row: 343, Column: 1\n",
            "Row: 346, Column: 1\n",
            "Row: 353, Column: 1\n",
            "Row: 356, Column: 1\n",
            "Row: 361, Column: 1\n",
            "Row: 362, Column: 1\n",
            "Row: 363, Column: 1\n",
            "Row: 364, Column: 1\n",
            "Row: 367, Column: 1\n",
            "Row: 371, Column: 1\n",
            "Row: 374, Column: 1\n",
            "Row: 375, Column: 1\n",
            "Row: 376, Column: 1\n",
            "Row: 377, Column: 1\n",
            "Row: 379, Column: 1\n",
            "Row: 381, Column: 1\n",
            "Row: 386, Column: 1\n",
            "Row: 387, Column: 1\n",
            "Row: 390, Column: 1\n",
            "Row: 392, Column: 1\n",
            "Row: 394, Column: 1\n",
            "Row: 395, Column: 1\n",
            "Row: 397, Column: 1\n",
            "Row: 402, Column: 1\n",
            "Row: 405, Column: 1\n",
            "Row: 409, Column: 1\n",
            "Row: 415, Column: 1\n",
            "Row: 422, Column: 1\n",
            "Row: 432, Column: 1\n",
            "Row: 434, Column: 1\n",
            "Row: 440, Column: 1\n",
            "Row: 441, Column: 1\n",
            "Row: 443, Column: 1\n",
            "Row: 444, Column: 1\n",
            "Row: 445, Column: 1\n",
            "Row: 446, Column: 1\n",
            "Row: 460, Column: 1\n",
            "Row: 463, Column: 1\n",
            "Row: 466, Column: 1\n",
            "Row: 468, Column: 1\n",
            "Row: 472, Column: 1\n",
            "Row: 479, Column: 1\n",
            "Row: 481, Column: 1\n",
            "Row: 482, Column: 1\n",
            "Row: 484, Column: 1\n",
            "Row: 487, Column: 1\n",
            "Row: 491, Column: 1\n",
            "Row: 493, Column: 1\n",
            "Row: 501, Column: 1\n",
            "Row: 503, Column: 1\n",
            "Row: 506, Column: 1\n",
            "Row: 508, Column: 1\n",
            "Row: 519, Column: 1\n",
            "Row: 521, Column: 1\n",
            "Row: 531, Column: 1\n",
            "Row: 534, Column: 1\n",
            "Row: 536, Column: 1\n",
            "Row: 539, Column: 1\n",
            "Row: 545, Column: 1\n",
            "Row: 551, Column: 1\n",
            "Row: 553, Column: 1\n",
            "Row: 559, Column: 1\n",
            "Row: 560, Column: 1\n",
            "Row: 562, Column: 1\n",
            "Row: 563, Column: 1\n",
            "Row: 569, Column: 1\n",
            "Row: 572, Column: 1\n",
            "Row: 574, Column: 1\n",
            "Row: 583, Column: 1\n",
            "Row: 584, Column: 1\n",
            "Row: 598, Column: 1\n",
            "Row: 609, Column: 1\n",
            "Row: 610, Column: 1\n",
            "Row: 613, Column: 1\n",
            "Row: 621, Column: 1\n",
            "Row: 628, Column: 1\n",
            "Row: 630, Column: 1\n",
            "Row: 636, Column: 1\n",
            "Row: 640, Column: 1\n",
            "Row: 642, Column: 1\n",
            "Row: 643, Column: 1\n",
            "Row: 645, Column: 1\n",
            "Row: 646, Column: 1\n",
            "Row: 651, Column: 1\n",
            "Row: 653, Column: 1\n",
            "Row: 654, Column: 1\n",
            "Row: 660, Column: 1\n",
            "Row: 669, Column: 1\n",
            "Row: 679, Column: 1\n",
            "Row: 683, Column: 1\n",
            "Row: 684, Column: 1\n",
            "Row: 693, Column: 1\n",
            "Row: 699, Column: 1\n",
            "Row: 701, Column: 1\n",
            "Row: 706, Column: 1\n",
            "Row: 710, Column: 1\n",
            "Row: 714, Column: 1\n",
            "Row: 723, Column: 1\n",
            "Row: 724, Column: 1\n",
            "Row: 725, Column: 1\n",
            "Row: 733, Column: 1\n"
          ]
        }
      ]
    },
    {
      "cell_type": "code",
      "source": [
        "\n",
        "# Calculate the percentage of identical values\n",
        "identical_percentage = (df1.values == df2.values).mean() * 100\n",
        "\n",
        "print(f\"The percentage of identical values is: {identical_percentage:.2f}%\")"
      ],
      "metadata": {
        "colab": {
          "base_uri": "https://localhost:8080/"
        },
        "id": "PonWAKOebrcq",
        "outputId": "945e4816-8437-4d6e-8502-3bc6318cc0b8"
      },
      "execution_count": null,
      "outputs": [
        {
          "output_type": "stream",
          "name": "stdout",
          "text": [
            "The percentage of identical values is: 87.28%\n"
          ]
        }
      ]
    },
    {
      "cell_type": "code",
      "source": [],
      "metadata": {
        "id": "YQADTIrwbGZv"
      },
      "execution_count": null,
      "outputs": []
    }
  ]
}